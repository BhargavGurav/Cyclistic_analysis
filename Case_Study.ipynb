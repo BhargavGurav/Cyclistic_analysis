{
 "cells": [
  {
   "cell_type": "code",
   "execution_count": 7,
   "id": "90c9ea9d",
   "metadata": {},
   "outputs": [],
   "source": [
    "import pandas as pd\n",
    "import numpy as np\n",
    "import matplotlib.pyplot as plt\n",
    "import time\n",
    "from datetime import datetime\n",
    "import math"
   ]
  },
  {
   "cell_type": "markdown",
   "id": "ffc2995c",
   "metadata": {},
   "source": [
    "## reading all data"
   ]
  },
  {
   "cell_type": "code",
   "execution_count": 3,
   "id": "27462dd4",
   "metadata": {},
   "outputs": [],
   "source": [
    "df1  = pd.read_csv(\"Data/202101-divvy-tripdata.csv\")\n",
    "df2  = pd.read_csv(\"Data/202102-divvy-tripdata.csv\")\n",
    "df3  = pd.read_csv(\"Data/202103-divvy-tripdata.csv\")\n",
    "df4  = pd.read_csv(\"Data/202104-divvy-tripdata.csv\")\n",
    "df5  = pd.read_csv(\"Data/202105-divvy-tripdata.csv\")\n",
    "df6  = pd.read_csv(\"Data/202106-divvy-tripdata.csv\")\n",
    "df7  = pd.read_csv(\"Data/202107-divvy-tripdata.csv\")\n",
    "df8  = pd.read_csv(\"Data/202108-divvy-tripdata.csv\")\n",
    "df9  = pd.read_csv(\"Data/202109-divvy-tripdata.csv\")\n",
    "df10 = pd.read_csv(\"Data/202110-divvy-tripdata.csv\")\n",
    "df11 = pd.read_csv(\"Data/202111-divvy-tripdata.csv\")\n",
    "df12 = pd.read_csv(\"Data/202112-divvy-tripdata.csv\")\n",
    "\n",
    "frames = [df1, df2, df3, df4, df5, df6, df7, df8, df9, df10, df11, df12]\n",
    "all_data = pd.concat(frames)\n"
   ]
  },
  {
   "cell_type": "markdown",
   "id": "a7478de4",
   "metadata": {},
   "source": [
    "## saving all data combined in one csv file"
   ]
  },
  {
   "cell_type": "code",
   "execution_count": 4,
   "id": "fa18c926",
   "metadata": {},
   "outputs": [],
   "source": [
    "all_data.to_csv(\"Data/All_Combined.csv\")"
   ]
  },
  {
   "cell_type": "code",
   "execution_count": 5,
   "id": "86656803",
   "metadata": {},
   "outputs": [
    {
     "data": {
      "text/plain": [
       "(5595063, 13)"
      ]
     },
     "execution_count": 5,
     "metadata": {},
     "output_type": "execute_result"
    }
   ],
   "source": [
    "# shape of data\n",
    "all_data.shape"
   ]
  },
  {
   "cell_type": "code",
   "execution_count": 6,
   "id": "493221f0",
   "metadata": {},
   "outputs": [
    {
     "data": {
      "text/html": [
       "<div>\n",
       "<style scoped>\n",
       "    .dataframe tbody tr th:only-of-type {\n",
       "        vertical-align: middle;\n",
       "    }\n",
       "\n",
       "    .dataframe tbody tr th {\n",
       "        vertical-align: top;\n",
       "    }\n",
       "\n",
       "    .dataframe thead th {\n",
       "        text-align: right;\n",
       "    }\n",
       "</style>\n",
       "<table border=\"1\" class=\"dataframe\">\n",
       "  <thead>\n",
       "    <tr style=\"text-align: right;\">\n",
       "      <th></th>\n",
       "      <th>start_lat</th>\n",
       "      <th>start_lng</th>\n",
       "      <th>end_lat</th>\n",
       "      <th>end_lng</th>\n",
       "    </tr>\n",
       "  </thead>\n",
       "  <tbody>\n",
       "    <tr>\n",
       "      <th>count</th>\n",
       "      <td>5.595063e+06</td>\n",
       "      <td>5.595063e+06</td>\n",
       "      <td>5.590292e+06</td>\n",
       "      <td>5.590292e+06</td>\n",
       "    </tr>\n",
       "    <tr>\n",
       "      <th>mean</th>\n",
       "      <td>4.190107e+01</td>\n",
       "      <td>-8.764605e+01</td>\n",
       "      <td>4.190134e+01</td>\n",
       "      <td>-8.764626e+01</td>\n",
       "    </tr>\n",
       "    <tr>\n",
       "      <th>std</th>\n",
       "      <td>4.608635e-02</td>\n",
       "      <td>2.872111e-02</td>\n",
       "      <td>4.618916e-02</td>\n",
       "      <td>2.889959e-02</td>\n",
       "    </tr>\n",
       "    <tr>\n",
       "      <th>min</th>\n",
       "      <td>4.164000e+01</td>\n",
       "      <td>-8.784000e+01</td>\n",
       "      <td>4.139000e+01</td>\n",
       "      <td>-8.897000e+01</td>\n",
       "    </tr>\n",
       "    <tr>\n",
       "      <th>25%</th>\n",
       "      <td>4.188155e+01</td>\n",
       "      <td>-8.766000e+01</td>\n",
       "      <td>4.188184e+01</td>\n",
       "      <td>-8.766000e+01</td>\n",
       "    </tr>\n",
       "    <tr>\n",
       "      <th>50%</th>\n",
       "      <td>4.189897e+01</td>\n",
       "      <td>-8.764182e+01</td>\n",
       "      <td>4.189964e+01</td>\n",
       "      <td>-8.764275e+01</td>\n",
       "    </tr>\n",
       "    <tr>\n",
       "      <th>75%</th>\n",
       "      <td>4.192914e+01</td>\n",
       "      <td>-8.762773e+01</td>\n",
       "      <td>4.192920e+01</td>\n",
       "      <td>-8.762775e+01</td>\n",
       "    </tr>\n",
       "    <tr>\n",
       "      <th>max</th>\n",
       "      <td>4.207000e+01</td>\n",
       "      <td>-8.752000e+01</td>\n",
       "      <td>4.216812e+01</td>\n",
       "      <td>-8.749000e+01</td>\n",
       "    </tr>\n",
       "  </tbody>\n",
       "</table>\n",
       "</div>"
      ],
      "text/plain": [
       "          start_lat     start_lng       end_lat       end_lng\n",
       "count  5.595063e+06  5.595063e+06  5.590292e+06  5.590292e+06\n",
       "mean   4.190107e+01 -8.764605e+01  4.190134e+01 -8.764626e+01\n",
       "std    4.608635e-02  2.872111e-02  4.618916e-02  2.889959e-02\n",
       "min    4.164000e+01 -8.784000e+01  4.139000e+01 -8.897000e+01\n",
       "25%    4.188155e+01 -8.766000e+01  4.188184e+01 -8.766000e+01\n",
       "50%    4.189897e+01 -8.764182e+01  4.189964e+01 -8.764275e+01\n",
       "75%    4.192914e+01 -8.762773e+01  4.192920e+01 -8.762775e+01\n",
       "max    4.207000e+01 -8.752000e+01  4.216812e+01 -8.749000e+01"
      ]
     },
     "execution_count": 6,
     "metadata": {},
     "output_type": "execute_result"
    }
   ],
   "source": [
    "all_data.describe()"
   ]
  },
  {
   "cell_type": "code",
   "execution_count": 7,
   "id": "5f7fd135",
   "metadata": {},
   "outputs": [
    {
     "name": "stdout",
     "output_type": "stream",
     "text": [
      "<class 'pandas.core.frame.DataFrame'>\n",
      "Int64Index: 5595063 entries, 0 to 247539\n",
      "Data columns (total 13 columns):\n",
      " #   Column              Dtype  \n",
      "---  ------              -----  \n",
      " 0   ride_id             object \n",
      " 1   rideable_type       object \n",
      " 2   started_at          object \n",
      " 3   ended_at            object \n",
      " 4   start_station_name  object \n",
      " 5   start_station_id    object \n",
      " 6   end_station_name    object \n",
      " 7   end_station_id      object \n",
      " 8   start_lat           float64\n",
      " 9   start_lng           float64\n",
      " 10  end_lat             float64\n",
      " 11  end_lng             float64\n",
      " 12  member_casual       object \n",
      "dtypes: float64(4), object(9)\n",
      "memory usage: 597.6+ MB\n"
     ]
    }
   ],
   "source": [
    "all_data.info()"
   ]
  },
  {
   "cell_type": "markdown",
   "id": "8b26503c",
   "metadata": {},
   "source": [
    "### checking null data"
   ]
  },
  {
   "cell_type": "code",
   "execution_count": 9,
   "id": "120d943c",
   "metadata": {},
   "outputs": [
    {
     "data": {
      "text/plain": [
       "ride_id                    0\n",
       "rideable_type              0\n",
       "started_at                 0\n",
       "ended_at                   0\n",
       "start_station_name    690809\n",
       "start_station_id      690806\n",
       "end_station_name      739170\n",
       "end_station_id        739170\n",
       "start_lat                  0\n",
       "start_lng                  0\n",
       "end_lat                 4771\n",
       "end_lng                 4771\n",
       "member_casual              0\n",
       "dtype: int64"
      ]
     },
     "execution_count": 9,
     "metadata": {},
     "output_type": "execute_result"
    }
   ],
   "source": [
    "# null data rows\n",
    "all_data.isna().sum()"
   ]
  },
  {
   "cell_type": "markdown",
   "id": "a867b172",
   "metadata": {},
   "source": [
    "### converting column to datetime "
   ]
  },
  {
   "cell_type": "code",
   "execution_count": 37,
   "id": "b5b6849b",
   "metadata": {},
   "outputs": [
    {
     "data": {
      "text/plain": [
       "0        2021-01-23 16:14:19\n",
       "1        2021-01-27 18:43:08\n",
       "2        2021-01-21 22:35:54\n",
       "3        2021-01-07 13:31:13\n",
       "4        2021-01-23 02:24:02\n",
       "                 ...        \n",
       "247535   2021-12-12 13:36:55\n",
       "247536   2021-12-06 19:37:50\n",
       "247537   2021-12-02 08:57:04\n",
       "247538   2021-12-13 09:00:26\n",
       "247539   2021-12-13 08:45:32\n",
       "Name: started_at, Length: 5595063, dtype: datetime64[ns]"
      ]
     },
     "execution_count": 37,
     "metadata": {},
     "output_type": "execute_result"
    }
   ],
   "source": [
    "all_data['started_at'] = pd.to_datetime(all_data['started_at'])\n",
    "all_data['started_at']"
   ]
  },
  {
   "cell_type": "code",
   "execution_count": 38,
   "id": "e87d19d8",
   "metadata": {
    "scrolled": true
   },
   "outputs": [
    {
     "data": {
      "text/plain": [
       "0        2021-01-23 16:24:44\n",
       "1        2021-01-27 18:47:12\n",
       "2        2021-01-21 22:37:14\n",
       "3        2021-01-07 13:42:55\n",
       "4        2021-01-23 02:24:45\n",
       "                 ...        \n",
       "247535   2021-12-12 13:56:08\n",
       "247536   2021-12-06 19:44:51\n",
       "247537   2021-12-02 09:05:21\n",
       "247538   2021-12-13 09:14:39\n",
       "247539   2021-12-13 08:49:09\n",
       "Name: ended_at, Length: 5595063, dtype: datetime64[ns]"
      ]
     },
     "execution_count": 38,
     "metadata": {},
     "output_type": "execute_result"
    }
   ],
   "source": [
    "all_data['ended_at'] = pd.to_datetime(all_data['ended_at'])\n",
    "all_data['ended_at']"
   ]
  },
  {
   "cell_type": "markdown",
   "id": "a93873cb",
   "metadata": {},
   "source": [
    "### calculating ride length by time difference in starting time of ride and ending time ( in minutes)"
   ]
  },
  {
   "cell_type": "code",
   "execution_count": 44,
   "id": "a279648d",
   "metadata": {},
   "outputs": [],
   "source": [
    "# ride calculation\n",
    "all_data['ride_in_min'] = (all_data['ended_at'] - all_data['started_at']) / pd.Timedelta(minutes=1)\n"
   ]
  },
  {
   "cell_type": "code",
   "execution_count": 48,
   "id": "0eded74e",
   "metadata": {},
   "outputs": [
    {
     "data": {
      "text/html": [
       "<div>\n",
       "<style scoped>\n",
       "    .dataframe tbody tr th:only-of-type {\n",
       "        vertical-align: middle;\n",
       "    }\n",
       "\n",
       "    .dataframe tbody tr th {\n",
       "        vertical-align: top;\n",
       "    }\n",
       "\n",
       "    .dataframe thead th {\n",
       "        text-align: right;\n",
       "    }\n",
       "</style>\n",
       "<table border=\"1\" class=\"dataframe\">\n",
       "  <thead>\n",
       "    <tr style=\"text-align: right;\">\n",
       "      <th></th>\n",
       "      <th>ride_id</th>\n",
       "      <th>rideable_type</th>\n",
       "      <th>started_at</th>\n",
       "      <th>ended_at</th>\n",
       "      <th>start_station_name</th>\n",
       "      <th>start_station_id</th>\n",
       "      <th>end_station_name</th>\n",
       "      <th>end_station_id</th>\n",
       "      <th>start_lat</th>\n",
       "      <th>start_lng</th>\n",
       "      <th>end_lat</th>\n",
       "      <th>end_lng</th>\n",
       "      <th>member_casual</th>\n",
       "      <th>ride_in_min</th>\n",
       "    </tr>\n",
       "  </thead>\n",
       "  <tbody>\n",
       "    <tr>\n",
       "      <th>0</th>\n",
       "      <td>E19E6F1B8D4C42ED</td>\n",
       "      <td>electric_bike</td>\n",
       "      <td>2021-01-23 16:14:19</td>\n",
       "      <td>2021-01-23 16:24:44</td>\n",
       "      <td>California Ave &amp; Cortez St</td>\n",
       "      <td>17660</td>\n",
       "      <td>NaN</td>\n",
       "      <td>NaN</td>\n",
       "      <td>41.900341</td>\n",
       "      <td>-87.696743</td>\n",
       "      <td>41.89</td>\n",
       "      <td>-87.72</td>\n",
       "      <td>member</td>\n",
       "      <td>10.416667</td>\n",
       "    </tr>\n",
       "    <tr>\n",
       "      <th>1</th>\n",
       "      <td>DC88F20C2C55F27F</td>\n",
       "      <td>electric_bike</td>\n",
       "      <td>2021-01-27 18:43:08</td>\n",
       "      <td>2021-01-27 18:47:12</td>\n",
       "      <td>California Ave &amp; Cortez St</td>\n",
       "      <td>17660</td>\n",
       "      <td>NaN</td>\n",
       "      <td>NaN</td>\n",
       "      <td>41.900333</td>\n",
       "      <td>-87.696707</td>\n",
       "      <td>41.90</td>\n",
       "      <td>-87.69</td>\n",
       "      <td>member</td>\n",
       "      <td>4.066667</td>\n",
       "    </tr>\n",
       "    <tr>\n",
       "      <th>2</th>\n",
       "      <td>EC45C94683FE3F27</td>\n",
       "      <td>electric_bike</td>\n",
       "      <td>2021-01-21 22:35:54</td>\n",
       "      <td>2021-01-21 22:37:14</td>\n",
       "      <td>California Ave &amp; Cortez St</td>\n",
       "      <td>17660</td>\n",
       "      <td>NaN</td>\n",
       "      <td>NaN</td>\n",
       "      <td>41.900313</td>\n",
       "      <td>-87.696643</td>\n",
       "      <td>41.90</td>\n",
       "      <td>-87.70</td>\n",
       "      <td>member</td>\n",
       "      <td>1.333333</td>\n",
       "    </tr>\n",
       "    <tr>\n",
       "      <th>3</th>\n",
       "      <td>4FA453A75AE377DB</td>\n",
       "      <td>electric_bike</td>\n",
       "      <td>2021-01-07 13:31:13</td>\n",
       "      <td>2021-01-07 13:42:55</td>\n",
       "      <td>California Ave &amp; Cortez St</td>\n",
       "      <td>17660</td>\n",
       "      <td>NaN</td>\n",
       "      <td>NaN</td>\n",
       "      <td>41.900399</td>\n",
       "      <td>-87.696662</td>\n",
       "      <td>41.92</td>\n",
       "      <td>-87.69</td>\n",
       "      <td>member</td>\n",
       "      <td>11.700000</td>\n",
       "    </tr>\n",
       "    <tr>\n",
       "      <th>4</th>\n",
       "      <td>BE5E8EB4E7263A0B</td>\n",
       "      <td>electric_bike</td>\n",
       "      <td>2021-01-23 02:24:02</td>\n",
       "      <td>2021-01-23 02:24:45</td>\n",
       "      <td>California Ave &amp; Cortez St</td>\n",
       "      <td>17660</td>\n",
       "      <td>NaN</td>\n",
       "      <td>NaN</td>\n",
       "      <td>41.900326</td>\n",
       "      <td>-87.696697</td>\n",
       "      <td>41.90</td>\n",
       "      <td>-87.70</td>\n",
       "      <td>casual</td>\n",
       "      <td>0.716667</td>\n",
       "    </tr>\n",
       "  </tbody>\n",
       "</table>\n",
       "</div>"
      ],
      "text/plain": [
       "            ride_id  rideable_type          started_at            ended_at  \\\n",
       "0  E19E6F1B8D4C42ED  electric_bike 2021-01-23 16:14:19 2021-01-23 16:24:44   \n",
       "1  DC88F20C2C55F27F  electric_bike 2021-01-27 18:43:08 2021-01-27 18:47:12   \n",
       "2  EC45C94683FE3F27  electric_bike 2021-01-21 22:35:54 2021-01-21 22:37:14   \n",
       "3  4FA453A75AE377DB  electric_bike 2021-01-07 13:31:13 2021-01-07 13:42:55   \n",
       "4  BE5E8EB4E7263A0B  electric_bike 2021-01-23 02:24:02 2021-01-23 02:24:45   \n",
       "\n",
       "           start_station_name start_station_id end_station_name  \\\n",
       "0  California Ave & Cortez St            17660              NaN   \n",
       "1  California Ave & Cortez St            17660              NaN   \n",
       "2  California Ave & Cortez St            17660              NaN   \n",
       "3  California Ave & Cortez St            17660              NaN   \n",
       "4  California Ave & Cortez St            17660              NaN   \n",
       "\n",
       "  end_station_id  start_lat  start_lng  end_lat  end_lng member_casual  \\\n",
       "0            NaN  41.900341 -87.696743    41.89   -87.72        member   \n",
       "1            NaN  41.900333 -87.696707    41.90   -87.69        member   \n",
       "2            NaN  41.900313 -87.696643    41.90   -87.70        member   \n",
       "3            NaN  41.900399 -87.696662    41.92   -87.69        member   \n",
       "4            NaN  41.900326 -87.696697    41.90   -87.70        casual   \n",
       "\n",
       "   ride_in_min  \n",
       "0    10.416667  \n",
       "1     4.066667  \n",
       "2     1.333333  \n",
       "3    11.700000  \n",
       "4     0.716667  "
      ]
     },
     "execution_count": 48,
     "metadata": {},
     "output_type": "execute_result"
    }
   ],
   "source": [
    "all_data.head()"
   ]
  },
  {
   "cell_type": "code",
   "execution_count": null,
   "id": "c82ed45e",
   "metadata": {},
   "outputs": [],
   "source": []
  },
  {
   "cell_type": "code",
   "execution_count": null,
   "id": "4334e737",
   "metadata": {},
   "outputs": [],
   "source": []
  },
  {
   "cell_type": "code",
   "execution_count": 41,
   "id": "90cfe231",
   "metadata": {},
   "outputs": [],
   "source": [
    "all_data.to_csv(\"Data/All_Combined.csv\")"
   ]
  },
  {
   "cell_type": "code",
   "execution_count": 2,
   "id": "47bc2b36",
   "metadata": {},
   "outputs": [],
   "source": [
    "all_data = pd.read_csv(\"Data/All_Combined.csv\")"
   ]
  },
  {
   "cell_type": "code",
   "execution_count": 39,
   "id": "08b83f0c",
   "metadata": {},
   "outputs": [],
   "source": [
    "del all_data['Unnamed: 0']\n",
    "del all_data['start_station_id']\n",
    "del all_data['end_station_id']"
   ]
  },
  {
   "cell_type": "code",
   "execution_count": null,
   "id": "feda96e4",
   "metadata": {},
   "outputs": [],
   "source": []
  },
  {
   "cell_type": "code",
   "execution_count": 40,
   "id": "ca488145",
   "metadata": {},
   "outputs": [
    {
     "data": {
      "text/html": [
       "<div>\n",
       "<style scoped>\n",
       "    .dataframe tbody tr th:only-of-type {\n",
       "        vertical-align: middle;\n",
       "    }\n",
       "\n",
       "    .dataframe tbody tr th {\n",
       "        vertical-align: top;\n",
       "    }\n",
       "\n",
       "    .dataframe thead th {\n",
       "        text-align: right;\n",
       "    }\n",
       "</style>\n",
       "<table border=\"1\" class=\"dataframe\">\n",
       "  <thead>\n",
       "    <tr style=\"text-align: right;\">\n",
       "      <th></th>\n",
       "      <th>ride_id</th>\n",
       "      <th>rideable_type</th>\n",
       "      <th>started_at</th>\n",
       "      <th>ended_at</th>\n",
       "      <th>start_station_name</th>\n",
       "      <th>end_station_name</th>\n",
       "      <th>start_lat</th>\n",
       "      <th>start_lng</th>\n",
       "      <th>end_lat</th>\n",
       "      <th>end_lng</th>\n",
       "      <th>member_casual</th>\n",
       "      <th>ride_in_min</th>\n",
       "      <th>ride_weekday</th>\n",
       "    </tr>\n",
       "  </thead>\n",
       "  <tbody>\n",
       "    <tr>\n",
       "      <th>0</th>\n",
       "      <td>E19E6F1B8D4C42ED</td>\n",
       "      <td>electric_bike</td>\n",
       "      <td>2021-01-23 16:14:19</td>\n",
       "      <td>2021-01-23 16:24:44</td>\n",
       "      <td>California Ave &amp; Cortez St</td>\n",
       "      <td>NaN</td>\n",
       "      <td>41.900341</td>\n",
       "      <td>-87.696743</td>\n",
       "      <td>41.89</td>\n",
       "      <td>-87.72</td>\n",
       "      <td>member</td>\n",
       "      <td>10</td>\n",
       "      <td>6</td>\n",
       "    </tr>\n",
       "    <tr>\n",
       "      <th>1</th>\n",
       "      <td>DC88F20C2C55F27F</td>\n",
       "      <td>electric_bike</td>\n",
       "      <td>2021-01-27 18:43:08</td>\n",
       "      <td>2021-01-27 18:47:12</td>\n",
       "      <td>California Ave &amp; Cortez St</td>\n",
       "      <td>NaN</td>\n",
       "      <td>41.900333</td>\n",
       "      <td>-87.696707</td>\n",
       "      <td>41.90</td>\n",
       "      <td>-87.69</td>\n",
       "      <td>member</td>\n",
       "      <td>4</td>\n",
       "      <td>3</td>\n",
       "    </tr>\n",
       "    <tr>\n",
       "      <th>2</th>\n",
       "      <td>EC45C94683FE3F27</td>\n",
       "      <td>electric_bike</td>\n",
       "      <td>2021-01-21 22:35:54</td>\n",
       "      <td>2021-01-21 22:37:14</td>\n",
       "      <td>California Ave &amp; Cortez St</td>\n",
       "      <td>NaN</td>\n",
       "      <td>41.900313</td>\n",
       "      <td>-87.696643</td>\n",
       "      <td>41.90</td>\n",
       "      <td>-87.70</td>\n",
       "      <td>member</td>\n",
       "      <td>1</td>\n",
       "      <td>4</td>\n",
       "    </tr>\n",
       "    <tr>\n",
       "      <th>3</th>\n",
       "      <td>4FA453A75AE377DB</td>\n",
       "      <td>electric_bike</td>\n",
       "      <td>2021-01-07 13:31:13</td>\n",
       "      <td>2021-01-07 13:42:55</td>\n",
       "      <td>California Ave &amp; Cortez St</td>\n",
       "      <td>NaN</td>\n",
       "      <td>41.900399</td>\n",
       "      <td>-87.696662</td>\n",
       "      <td>41.92</td>\n",
       "      <td>-87.69</td>\n",
       "      <td>member</td>\n",
       "      <td>11</td>\n",
       "      <td>4</td>\n",
       "    </tr>\n",
       "    <tr>\n",
       "      <th>4</th>\n",
       "      <td>BE5E8EB4E7263A0B</td>\n",
       "      <td>electric_bike</td>\n",
       "      <td>2021-01-23 02:24:02</td>\n",
       "      <td>2021-01-23 02:24:45</td>\n",
       "      <td>California Ave &amp; Cortez St</td>\n",
       "      <td>NaN</td>\n",
       "      <td>41.900326</td>\n",
       "      <td>-87.696697</td>\n",
       "      <td>41.90</td>\n",
       "      <td>-87.70</td>\n",
       "      <td>casual</td>\n",
       "      <td>0</td>\n",
       "      <td>6</td>\n",
       "    </tr>\n",
       "  </tbody>\n",
       "</table>\n",
       "</div>"
      ],
      "text/plain": [
       "            ride_id  rideable_type           started_at             ended_at  \\\n",
       "0  E19E6F1B8D4C42ED  electric_bike  2021-01-23 16:14:19  2021-01-23 16:24:44   \n",
       "1  DC88F20C2C55F27F  electric_bike  2021-01-27 18:43:08  2021-01-27 18:47:12   \n",
       "2  EC45C94683FE3F27  electric_bike  2021-01-21 22:35:54  2021-01-21 22:37:14   \n",
       "3  4FA453A75AE377DB  electric_bike  2021-01-07 13:31:13  2021-01-07 13:42:55   \n",
       "4  BE5E8EB4E7263A0B  electric_bike  2021-01-23 02:24:02  2021-01-23 02:24:45   \n",
       "\n",
       "           start_station_name end_station_name  start_lat  start_lng  end_lat  \\\n",
       "0  California Ave & Cortez St              NaN  41.900341 -87.696743    41.89   \n",
       "1  California Ave & Cortez St              NaN  41.900333 -87.696707    41.90   \n",
       "2  California Ave & Cortez St              NaN  41.900313 -87.696643    41.90   \n",
       "3  California Ave & Cortez St              NaN  41.900399 -87.696662    41.92   \n",
       "4  California Ave & Cortez St              NaN  41.900326 -87.696697    41.90   \n",
       "\n",
       "   end_lng member_casual  ride_in_min ride_weekday  \n",
       "0   -87.72        member           10            6  \n",
       "1   -87.69        member            4            3  \n",
       "2   -87.70        member            1            4  \n",
       "3   -87.69        member           11            4  \n",
       "4   -87.70        casual            0            6  "
      ]
     },
     "execution_count": 40,
     "metadata": {},
     "output_type": "execute_result"
    }
   ],
   "source": [
    "all_data.head()"
   ]
  },
  {
   "cell_type": "code",
   "execution_count": 10,
   "id": "58487dca",
   "metadata": {},
   "outputs": [],
   "source": [
    "all_data = all_data.astype({'ride_in_min' : int})"
   ]
  },
  {
   "cell_type": "code",
   "execution_count": 15,
   "id": "d167dfcf",
   "metadata": {},
   "outputs": [
    {
     "data": {
      "text/html": [
       "<div>\n",
       "<style scoped>\n",
       "    .dataframe tbody tr th:only-of-type {\n",
       "        vertical-align: middle;\n",
       "    }\n",
       "\n",
       "    .dataframe tbody tr th {\n",
       "        vertical-align: top;\n",
       "    }\n",
       "\n",
       "    .dataframe thead th {\n",
       "        text-align: right;\n",
       "    }\n",
       "</style>\n",
       "<table border=\"1\" class=\"dataframe\">\n",
       "  <thead>\n",
       "    <tr style=\"text-align: right;\">\n",
       "      <th></th>\n",
       "      <th>Unnamed: 0</th>\n",
       "      <th>ride_id</th>\n",
       "      <th>rideable_type</th>\n",
       "      <th>started_at</th>\n",
       "      <th>ended_at</th>\n",
       "      <th>start_station_name</th>\n",
       "      <th>start_station_id</th>\n",
       "      <th>end_station_name</th>\n",
       "      <th>end_station_id</th>\n",
       "      <th>start_lat</th>\n",
       "      <th>start_lng</th>\n",
       "      <th>end_lat</th>\n",
       "      <th>end_lng</th>\n",
       "      <th>member_casual</th>\n",
       "      <th>ride_in_min</th>\n",
       "      <th>ride_weekday</th>\n",
       "    </tr>\n",
       "  </thead>\n",
       "  <tbody>\n",
       "    <tr>\n",
       "      <th>0</th>\n",
       "      <td>0</td>\n",
       "      <td>E19E6F1B8D4C42ED</td>\n",
       "      <td>electric_bike</td>\n",
       "      <td>2021-01-23 16:14:19</td>\n",
       "      <td>2021-01-23 16:24:44</td>\n",
       "      <td>California Ave &amp; Cortez St</td>\n",
       "      <td>17660</td>\n",
       "      <td>NaN</td>\n",
       "      <td>NaN</td>\n",
       "      <td>41.900341</td>\n",
       "      <td>-87.696743</td>\n",
       "      <td>41.89</td>\n",
       "      <td>-87.72</td>\n",
       "      <td>member</td>\n",
       "      <td>10</td>\n",
       "      <td>6</td>\n",
       "    </tr>\n",
       "    <tr>\n",
       "      <th>1</th>\n",
       "      <td>1</td>\n",
       "      <td>DC88F20C2C55F27F</td>\n",
       "      <td>electric_bike</td>\n",
       "      <td>2021-01-27 18:43:08</td>\n",
       "      <td>2021-01-27 18:47:12</td>\n",
       "      <td>California Ave &amp; Cortez St</td>\n",
       "      <td>17660</td>\n",
       "      <td>NaN</td>\n",
       "      <td>NaN</td>\n",
       "      <td>41.900333</td>\n",
       "      <td>-87.696707</td>\n",
       "      <td>41.90</td>\n",
       "      <td>-87.69</td>\n",
       "      <td>member</td>\n",
       "      <td>4</td>\n",
       "      <td>3</td>\n",
       "    </tr>\n",
       "    <tr>\n",
       "      <th>2</th>\n",
       "      <td>2</td>\n",
       "      <td>EC45C94683FE3F27</td>\n",
       "      <td>electric_bike</td>\n",
       "      <td>2021-01-21 22:35:54</td>\n",
       "      <td>2021-01-21 22:37:14</td>\n",
       "      <td>California Ave &amp; Cortez St</td>\n",
       "      <td>17660</td>\n",
       "      <td>NaN</td>\n",
       "      <td>NaN</td>\n",
       "      <td>41.900313</td>\n",
       "      <td>-87.696643</td>\n",
       "      <td>41.90</td>\n",
       "      <td>-87.70</td>\n",
       "      <td>member</td>\n",
       "      <td>1</td>\n",
       "      <td>4</td>\n",
       "    </tr>\n",
       "    <tr>\n",
       "      <th>3</th>\n",
       "      <td>3</td>\n",
       "      <td>4FA453A75AE377DB</td>\n",
       "      <td>electric_bike</td>\n",
       "      <td>2021-01-07 13:31:13</td>\n",
       "      <td>2021-01-07 13:42:55</td>\n",
       "      <td>California Ave &amp; Cortez St</td>\n",
       "      <td>17660</td>\n",
       "      <td>NaN</td>\n",
       "      <td>NaN</td>\n",
       "      <td>41.900399</td>\n",
       "      <td>-87.696662</td>\n",
       "      <td>41.92</td>\n",
       "      <td>-87.69</td>\n",
       "      <td>member</td>\n",
       "      <td>11</td>\n",
       "      <td>4</td>\n",
       "    </tr>\n",
       "    <tr>\n",
       "      <th>4</th>\n",
       "      <td>4</td>\n",
       "      <td>BE5E8EB4E7263A0B</td>\n",
       "      <td>electric_bike</td>\n",
       "      <td>2021-01-23 02:24:02</td>\n",
       "      <td>2021-01-23 02:24:45</td>\n",
       "      <td>California Ave &amp; Cortez St</td>\n",
       "      <td>17660</td>\n",
       "      <td>NaN</td>\n",
       "      <td>NaN</td>\n",
       "      <td>41.900326</td>\n",
       "      <td>-87.696697</td>\n",
       "      <td>41.90</td>\n",
       "      <td>-87.70</td>\n",
       "      <td>casual</td>\n",
       "      <td>0</td>\n",
       "      <td>6</td>\n",
       "    </tr>\n",
       "  </tbody>\n",
       "</table>\n",
       "</div>"
      ],
      "text/plain": [
       "   Unnamed: 0           ride_id  rideable_type           started_at  \\\n",
       "0           0  E19E6F1B8D4C42ED  electric_bike  2021-01-23 16:14:19   \n",
       "1           1  DC88F20C2C55F27F  electric_bike  2021-01-27 18:43:08   \n",
       "2           2  EC45C94683FE3F27  electric_bike  2021-01-21 22:35:54   \n",
       "3           3  4FA453A75AE377DB  electric_bike  2021-01-07 13:31:13   \n",
       "4           4  BE5E8EB4E7263A0B  electric_bike  2021-01-23 02:24:02   \n",
       "\n",
       "              ended_at          start_station_name start_station_id  \\\n",
       "0  2021-01-23 16:24:44  California Ave & Cortez St            17660   \n",
       "1  2021-01-27 18:47:12  California Ave & Cortez St            17660   \n",
       "2  2021-01-21 22:37:14  California Ave & Cortez St            17660   \n",
       "3  2021-01-07 13:42:55  California Ave & Cortez St            17660   \n",
       "4  2021-01-23 02:24:45  California Ave & Cortez St            17660   \n",
       "\n",
       "  end_station_name end_station_id  start_lat  start_lng  end_lat  end_lng  \\\n",
       "0              NaN            NaN  41.900341 -87.696743    41.89   -87.72   \n",
       "1              NaN            NaN  41.900333 -87.696707    41.90   -87.69   \n",
       "2              NaN            NaN  41.900313 -87.696643    41.90   -87.70   \n",
       "3              NaN            NaN  41.900399 -87.696662    41.92   -87.69   \n",
       "4              NaN            NaN  41.900326 -87.696697    41.90   -87.70   \n",
       "\n",
       "  member_casual  ride_in_min ride_weekday  \n",
       "0        member           10            6  \n",
       "1        member            4            3  \n",
       "2        member            1            4  \n",
       "3        member           11            4  \n",
       "4        casual            0            6  "
      ]
     },
     "execution_count": 15,
     "metadata": {},
     "output_type": "execute_result"
    }
   ],
   "source": [
    "all_data.head()"
   ]
  },
  {
   "cell_type": "code",
   "execution_count": 12,
   "id": "133ae19e",
   "metadata": {
    "scrolled": true
   },
   "outputs": [
    {
     "data": {
      "text/plain": [
       "Unnamed: 0              int64\n",
       "ride_id                object\n",
       "rideable_type          object\n",
       "started_at             object\n",
       "ended_at               object\n",
       "start_station_name     object\n",
       "start_station_id       object\n",
       "end_station_name       object\n",
       "end_station_id         object\n",
       "start_lat             float64\n",
       "start_lng             float64\n",
       "end_lat               float64\n",
       "end_lng               float64\n",
       "member_casual          object\n",
       "ride_in_min             int32\n",
       "dtype: object"
      ]
     },
     "execution_count": 12,
     "metadata": {},
     "output_type": "execute_result"
    }
   ],
   "source": [
    "all_data.dtypes"
   ]
  },
  {
   "cell_type": "markdown",
   "id": "08f811e6",
   "metadata": {},
   "source": [
    "### getting weekday of ride with the help of started_at column ( 0-sunday, 1-monday, ...,6-saturday)"
   ]
  },
  {
   "cell_type": "code",
   "execution_count": 14,
   "id": "45d66493",
   "metadata": {},
   "outputs": [],
   "source": [
    "all_data['ride_weekday'] = all_data.apply(lambda row: datetime.strptime(row['started_at'], \"%Y-%m-%d %H:%M:%S\").strftime('%w'), axis=1)"
   ]
  },
  {
   "cell_type": "markdown",
   "id": "131c7d21",
   "metadata": {},
   "source": [
    "### counting number of casual and member(Subscriber) of cyclistic"
   ]
  },
  {
   "cell_type": "code",
   "execution_count": 26,
   "id": "72d108e1",
   "metadata": {},
   "outputs": [
    {
     "data": {
      "text/plain": [
       "member_casual\n",
       "casual    2529005\n",
       "member    3066058\n",
       "dtype: int64"
      ]
     },
     "execution_count": 26,
     "metadata": {},
     "output_type": "execute_result"
    }
   ],
   "source": [
    "all_data.groupby('member_casual').size()"
   ]
  },
  {
   "cell_type": "code",
   "execution_count": 25,
   "id": "2782f002",
   "metadata": {
    "scrolled": false
   },
   "outputs": [
    {
     "data": {
      "text/plain": [
       "<AxesSubplot: xlabel='member_casual'>"
      ]
     },
     "execution_count": 25,
     "metadata": {},
     "output_type": "execute_result"
    },
    {
     "data": {
      "image/png": "[encoded data removed]",
      "text/plain": [
       "<Figure size 640x480 with 1 Axes>"
      ]
     },
     "metadata": {},
     "output_type": "display_data"
    }
   ],
   "source": [
    "all_data.groupby('member_casual').size().plot(kind='bar')"
   ]
  },
  {
   "cell_type": "markdown",
   "id": "8f79c976",
   "metadata": {},
   "source": [
    "### calculating number of rides on days of week"
   ]
  },
  {
   "cell_type": "code",
   "execution_count": 27,
   "id": "362cadfb",
   "metadata": {},
   "outputs": [
    {
     "data": {
      "text/plain": [
       "ride_weekday\n",
       "0    857285\n",
       "1    702588\n",
       "2    739905\n",
       "3    756142\n",
       "4    737588\n",
       "5    810508\n",
       "6    991047\n",
       "dtype: int64"
      ]
     },
     "execution_count": 27,
     "metadata": {},
     "output_type": "execute_result"
    }
   ],
   "source": [
    "all_data.groupby('ride_weekday').size()"
   ]
  },
  {
   "cell_type": "code",
   "execution_count": 24,
   "id": "765c6587",
   "metadata": {
    "scrolled": true
   },
   "outputs": [
    {
     "data": {
      "text/plain": [
       "<AxesSubplot: xlabel='ride_weekday'>"
      ]
     },
     "execution_count": 24,
     "metadata": {},
     "output_type": "execute_result"
    },
    {
     "data": {
      "image/png": "[encoded data removed]",
      "text/plain": [
       "<Figure size 640x480 with 1 Axes>"
      ]
     },
     "metadata": {},
     "output_type": "display_data"
    }
   ],
   "source": [
    "all_data.groupby('ride_weekday').size().plot(kind='bar')"
   ]
  },
  {
   "cell_type": "markdown",
   "id": "4b5db34c",
   "metadata": {},
   "source": [
    "### calculating number of rides on weekdays by both type of members"
   ]
  },
  {
   "cell_type": "code",
   "execution_count": 28,
   "id": "f15e5bcf",
   "metadata": {},
   "outputs": [
    {
     "data": {
      "text/plain": [
       "member_casual  ride_weekday\n",
       "casual         0               481143\n",
       "               1               286376\n",
       "               2               274392\n",
       "               3               278950\n",
       "               4               286064\n",
       "               5               364080\n",
       "               6               558000\n",
       "member         0               376142\n",
       "               1               416212\n",
       "               2               465513\n",
       "               3               477192\n",
       "               4               451524\n",
       "               5               446428\n",
       "               6               433047\n",
       "dtype: int64"
      ]
     },
     "execution_count": 28,
     "metadata": {},
     "output_type": "execute_result"
    }
   ],
   "source": [
    "all_data.groupby(['member_casual', 'ride_weekday']).size()"
   ]
  },
  {
   "cell_type": "code",
   "execution_count": 29,
   "id": "3a638015",
   "metadata": {
    "scrolled": true
   },
   "outputs": [
    {
     "data": {
      "text/plain": [
       "<AxesSubplot: xlabel='member_casual,ride_weekday'>"
      ]
     },
     "execution_count": 29,
     "metadata": {},
     "output_type": "execute_result"
    },
    {
     "data": {
      "image/png": "[encoded data removed]",
      "text/plain": [
       "<Figure size 640x480 with 1 Axes>"
      ]
     },
     "metadata": {},
     "output_type": "display_data"
    }
   ],
   "source": [
    "all_data.groupby(['member_casual', 'ride_weekday']).size().plot(kind='bar')"
   ]
  },
  {
   "cell_type": "markdown",
   "id": "cdf56554",
   "metadata": {},
   "source": [
    "### finding average ride length ( in minutes) by both type of members"
   ]
  },
  {
   "cell_type": "code",
   "execution_count": 38,
   "id": "16c51cdd",
   "metadata": {},
   "outputs": [
    {
     "data": {
      "text/plain": [
       "member_casual\n",
       "casual    31.511207\n",
       "member    13.143513\n",
       "Name: ride_in_min, dtype: float64"
      ]
     },
     "execution_count": 38,
     "metadata": {},
     "output_type": "execute_result"
    }
   ],
   "source": [
    "all_data.groupby('member_casual').mean()['ride_in_min']"
   ]
  },
  {
   "cell_type": "code",
   "execution_count": 42,
   "id": "1ae79d1f",
   "metadata": {},
   "outputs": [
    {
     "data": {
      "text/plain": [
       "member_casual  ride_weekday\n",
       "casual         0               37.071297\n",
       "               1               31.385556\n",
       "               2               27.482186\n",
       "               3               27.166890\n",
       "               4               27.212568\n",
       "               5               29.858663\n",
       "               6               34.216419\n",
       "member         0               15.164874\n",
       "               1               12.757724\n",
       "               2               12.297906\n",
       "               3               12.329668\n",
       "               4               12.286835\n",
       "               5               12.835447\n",
       "               6               14.775191\n",
       "Name: ride_in_min, dtype: float64"
      ]
     },
     "execution_count": 42,
     "metadata": {},
     "output_type": "execute_result"
    }
   ],
   "source": [
    "all_data.groupby(['member_casual', 'ride_weekday']).mean()['ride_in_min']"
   ]
  },
  {
   "cell_type": "code",
   "execution_count": null,
   "id": "40bd0635",
   "metadata": {},
   "outputs": [],
   "source": []
  }
 ],
 "metadata": {
  "kernelspec": {
   "display_name": "Python 3 (ipykernel)",
   "language": "python",
   "name": "python3"
  },
  "language_info": {
   "codemirror_mode": {
    "name": "ipython",
    "version": 3
   },
   "file_extension": ".py",
   "mimetype": "text/x-python",
   "name": "python",
   "nbconvert_exporter": "python",
   "pygments_lexer": "ipython3",
   "version": "3.10.3"
  }
 },
 "nbformat": 4,
 "nbformat_minor": 5
}
